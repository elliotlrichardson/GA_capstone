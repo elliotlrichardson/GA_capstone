{
 "cells": [
  {
   "cell_type": "markdown",
   "metadata": {},
   "source": [
    "# Modeling Support for Defuning the Police with Pew Data"
   ]
  },
  {
   "cell_type": "markdown",
   "metadata": {},
   "source": [
    "In this notebook, I threw a ton of models at the wall to see what would stick. In the end, I discovered that I couldn't manage to get my R<sup>2</sup> score above .23  or so. My best model was the VotingRegressor that ensembled linear regression, lasso, random forest, and gradient boost models for a score of .2376. But even with that best score, the RMSE was .2396; in other words, when trying to predict a value between 0 and 1, my model's predictions are off by an average of .24 or 24%. So the model itself might not be that helpful, but perhaps there is something to learn from the features and their relative importances. The top ten most important features were `political_party_gop, political_party_dem, age_group_18_29, education_level, religion_protestant, income_bracket, relig_activity, religion_atheist, religion_catholic,` and `religion_agnostic'."
   ]
  },
  {
   "cell_type": "markdown",
   "metadata": {},
   "source": [
    "## Imports and prep\n",
    "\n",
    "After importing the various libraries and packages I'm going to use in this section, I split the dataset into training and testing sets, scaled my features, and used MinMaxScaler to put the target variable (police favorability) on a scale of 0 to 1. "
   ]
  },
  {
   "cell_type": "code",
   "execution_count": 1,
   "metadata": {},
   "outputs": [],
   "source": [
    "import pandas as pd\n",
    "import numpy as np\n",
    "import matplotlib.pyplot as plt\n",
    "import seaborn as sns\n",
    "\n",
    "from sklearn.model_selection import cross_val_score, GridSearchCV, train_test_split\n",
    "from sklearn.preprocessing import MinMaxScaler, StandardScaler\n",
    "from sklearn.neighbors import KNeighborsRegressor\n",
    "from sklearn import metrics\n",
    "from sklearn.linear_model import Lasso, LassoCV, LinearRegression\n",
    "from sklearn.ensemble import RandomForestRegressor, GradientBoostingRegressor, AdaBoostRegressor, VotingRegressor\n",
    "from sklearn.pipeline import Pipeline\n",
    "from sklearn.preprocessing import PolynomialFeatures\n",
    "\n",
    "from tensorflow.keras.models import Sequential\n",
    "from tensorflow.keras.layers import Dense"
   ]
  },
  {
   "cell_type": "code",
   "execution_count": 2,
   "metadata": {},
   "outputs": [
    {
     "data": {
      "text/html": [
       "<div>\n",
       "<style scoped>\n",
       "    .dataframe tbody tr th:only-of-type {\n",
       "        vertical-align: middle;\n",
       "    }\n",
       "\n",
       "    .dataframe tbody tr th {\n",
       "        vertical-align: top;\n",
       "    }\n",
       "\n",
       "    .dataframe thead th {\n",
       "        text-align: right;\n",
       "    }\n",
       "</style>\n",
       "<table border=\"1\" class=\"dataframe\">\n",
       "  <thead>\n",
       "    <tr style=\"text-align: right;\">\n",
       "      <th></th>\n",
       "      <th>defund_support</th>\n",
       "      <th>lives_in_metro_area</th>\n",
       "      <th>is_female</th>\n",
       "      <th>education_level</th>\n",
       "      <th>is_hispanic</th>\n",
       "      <th>is_citizen</th>\n",
       "      <th>relig_activity</th>\n",
       "      <th>income_bracket</th>\n",
       "      <th>internet_access</th>\n",
       "      <th>social_media_user</th>\n",
       "      <th>...</th>\n",
       "      <th>religion_none</th>\n",
       "      <th>religion_orthodox</th>\n",
       "      <th>religion_other</th>\n",
       "      <th>religion_protestant</th>\n",
       "      <th>political_party_dem</th>\n",
       "      <th>political_party_gop</th>\n",
       "      <th>political_party_ind</th>\n",
       "      <th>voter_status_not_registered</th>\n",
       "      <th>voter_status_prob_registered</th>\n",
       "      <th>voter_status_registered</th>\n",
       "    </tr>\n",
       "  </thead>\n",
       "  <tbody>\n",
       "    <tr>\n",
       "      <th>0</th>\n",
       "      <td>3.0</td>\n",
       "      <td>1</td>\n",
       "      <td>0.0</td>\n",
       "      <td>5.0</td>\n",
       "      <td>0.0</td>\n",
       "      <td>1.0</td>\n",
       "      <td>5.0</td>\n",
       "      <td>6.0</td>\n",
       "      <td>1</td>\n",
       "      <td>0.0</td>\n",
       "      <td>...</td>\n",
       "      <td>1</td>\n",
       "      <td>0</td>\n",
       "      <td>0</td>\n",
       "      <td>0</td>\n",
       "      <td>0</td>\n",
       "      <td>1</td>\n",
       "      <td>0</td>\n",
       "      <td>0</td>\n",
       "      <td>0</td>\n",
       "      <td>1</td>\n",
       "    </tr>\n",
       "    <tr>\n",
       "      <th>1</th>\n",
       "      <td>1.0</td>\n",
       "      <td>1</td>\n",
       "      <td>1.0</td>\n",
       "      <td>4.0</td>\n",
       "      <td>0.0</td>\n",
       "      <td>1.0</td>\n",
       "      <td>3.0</td>\n",
       "      <td>4.0</td>\n",
       "      <td>1</td>\n",
       "      <td>1.0</td>\n",
       "      <td>...</td>\n",
       "      <td>0</td>\n",
       "      <td>0</td>\n",
       "      <td>0</td>\n",
       "      <td>1</td>\n",
       "      <td>0</td>\n",
       "      <td>0</td>\n",
       "      <td>1</td>\n",
       "      <td>0</td>\n",
       "      <td>0</td>\n",
       "      <td>1</td>\n",
       "    </tr>\n",
       "    <tr>\n",
       "      <th>2</th>\n",
       "      <td>2.0</td>\n",
       "      <td>1</td>\n",
       "      <td>0.0</td>\n",
       "      <td>6.0</td>\n",
       "      <td>0.0</td>\n",
       "      <td>1.0</td>\n",
       "      <td>5.0</td>\n",
       "      <td>7.0</td>\n",
       "      <td>0</td>\n",
       "      <td>1.0</td>\n",
       "      <td>...</td>\n",
       "      <td>0</td>\n",
       "      <td>0</td>\n",
       "      <td>0</td>\n",
       "      <td>0</td>\n",
       "      <td>0</td>\n",
       "      <td>0</td>\n",
       "      <td>1</td>\n",
       "      <td>1</td>\n",
       "      <td>0</td>\n",
       "      <td>0</td>\n",
       "    </tr>\n",
       "    <tr>\n",
       "      <th>3</th>\n",
       "      <td>5.0</td>\n",
       "      <td>1</td>\n",
       "      <td>0.0</td>\n",
       "      <td>3.0</td>\n",
       "      <td>1.0</td>\n",
       "      <td>1.0</td>\n",
       "      <td>6.0</td>\n",
       "      <td>6.0</td>\n",
       "      <td>1</td>\n",
       "      <td>1.0</td>\n",
       "      <td>...</td>\n",
       "      <td>0</td>\n",
       "      <td>0</td>\n",
       "      <td>0</td>\n",
       "      <td>0</td>\n",
       "      <td>0</td>\n",
       "      <td>1</td>\n",
       "      <td>0</td>\n",
       "      <td>0</td>\n",
       "      <td>0</td>\n",
       "      <td>1</td>\n",
       "    </tr>\n",
       "    <tr>\n",
       "      <th>4</th>\n",
       "      <td>3.0</td>\n",
       "      <td>1</td>\n",
       "      <td>0.0</td>\n",
       "      <td>5.0</td>\n",
       "      <td>0.0</td>\n",
       "      <td>1.0</td>\n",
       "      <td>5.0</td>\n",
       "      <td>9.0</td>\n",
       "      <td>1</td>\n",
       "      <td>0.0</td>\n",
       "      <td>...</td>\n",
       "      <td>0</td>\n",
       "      <td>0</td>\n",
       "      <td>0</td>\n",
       "      <td>0</td>\n",
       "      <td>0</td>\n",
       "      <td>0</td>\n",
       "      <td>1</td>\n",
       "      <td>0</td>\n",
       "      <td>0</td>\n",
       "      <td>1</td>\n",
       "    </tr>\n",
       "  </tbody>\n",
       "</table>\n",
       "<p>5 rows × 47 columns</p>\n",
       "</div>"
      ],
      "text/plain": [
       "   defund_support  lives_in_metro_area  is_female  education_level  \\\n",
       "0             3.0                    1        0.0              5.0   \n",
       "1             1.0                    1        1.0              4.0   \n",
       "2             2.0                    1        0.0              6.0   \n",
       "3             5.0                    1        0.0              3.0   \n",
       "4             3.0                    1        0.0              5.0   \n",
       "\n",
       "   is_hispanic  is_citizen  relig_activity  income_bracket  internet_access  \\\n",
       "0          0.0         1.0             5.0             6.0                1   \n",
       "1          0.0         1.0             3.0             4.0                1   \n",
       "2          0.0         1.0             5.0             7.0                0   \n",
       "3          1.0         1.0             6.0             6.0                1   \n",
       "4          0.0         1.0             5.0             9.0                1   \n",
       "\n",
       "   social_media_user  ...  religion_none  religion_orthodox  religion_other  \\\n",
       "0                0.0  ...              1                  0               0   \n",
       "1                1.0  ...              0                  0               0   \n",
       "2                1.0  ...              0                  0               0   \n",
       "3                1.0  ...              0                  0               0   \n",
       "4                0.0  ...              0                  0               0   \n",
       "\n",
       "   religion_protestant  political_party_dem  political_party_gop  \\\n",
       "0                    0                    0                    1   \n",
       "1                    1                    0                    0   \n",
       "2                    0                    0                    0   \n",
       "3                    0                    0                    1   \n",
       "4                    0                    0                    0   \n",
       "\n",
       "   political_party_ind  voter_status_not_registered  \\\n",
       "0                    0                            0   \n",
       "1                    1                            0   \n",
       "2                    1                            1   \n",
       "3                    0                            0   \n",
       "4                    1                            0   \n",
       "\n",
       "   voter_status_prob_registered  voter_status_registered  \n",
       "0                             0                        1  \n",
       "1                             0                        1  \n",
       "2                             0                        0  \n",
       "3                             0                        1  \n",
       "4                             0                        1  \n",
       "\n",
       "[5 rows x 47 columns]"
      ]
     },
     "execution_count": 2,
     "metadata": {},
     "output_type": "execute_result"
    }
   ],
   "source": [
    "df = pd.read_csv('../data/pew_cleaned.csv')\n",
    "df.head()"
   ]
  },
  {
   "cell_type": "code",
   "execution_count": 3,
   "metadata": {},
   "outputs": [],
   "source": [
    "X = df.drop(columns = 'defund_support')\n",
    "y = df['defund_support']\n",
    "\n",
    "X_train, X_test, y_train, y_test = train_test_split(X, y, test_size = .2, random_state = 42, stratify = y)\n",
    "\n",
    "sc = StandardScaler()\n",
    "\n",
    "X_train_sc = sc.fit_transform(X_train)\n",
    "X_test_sc = sc.transform(X_test)\n",
    "\n",
    "mm = MinMaxScaler()\n",
    "\n",
    "y_train = mm.fit_transform(np.array(y_train).reshape(-1, 1))[:,0]\n",
    "y_test = mm.transform(np.array(y_test).reshape(-1, 1))[:,0]"
   ]
  },
  {
   "cell_type": "markdown",
   "metadata": {},
   "source": [
    "## Throwing models at the wall and seeing what sticks\n",
    "\n",
    "In this section, I created a for loop to see which models seemed to be the best fit for this project. I mostly focused on the testing scores when evaluating these, but was also interested in the range of predictions and the pattern of residuals. I moved forward with the four models from the loop with the highest testing scores to experiment further."
   ]
  },
  {
   "cell_type": "code",
   "execution_count": 4,
   "metadata": {
    "scrolled": false
   },
   "outputs": [
    {
     "name": "stdout",
     "output_type": "stream",
     "text": [
      "KNeighborsRegressor() \n",
      "\n",
      "Training score: 0.3983 , Testing score: 0.0866 \n",
      "\n",
      "Baseline: 2.9587 , Pred mean: 0.4592 , Pred variance: 0.0127\n"
     ]
    },
    {
     "data": {
      "image/png": "[encoded data removed]",
      "text/plain": [
       "<Figure size 1152x432 with 3 Axes>"
      ]
     },
     "metadata": {
      "needs_background": "light"
     },
     "output_type": "display_data"
    },
    {
     "name": "stdout",
     "output_type": "stream",
     "text": [
      "LassoCV() \n",
      "\n",
      "Training score: 0.2404 , Testing score: 0.2167 \n",
      "\n",
      "Baseline: 2.9587 , Pred mean: 0.5483 , Pred variance: 0.0069\n"
     ]
    },
    {
     "data": {
      "image/png": "[encoded data removed]",
      "text/plain": [
       "<Figure size 1152x432 with 3 Axes>"
      ]
     },
     "metadata": {
      "needs_background": "light"
     },
     "output_type": "display_data"
    },
    {
     "name": "stdout",
     "output_type": "stream",
     "text": [
      "LinearRegression() \n",
      "\n",
      "Training score: 0.2463 , Testing score: 0.2103 \n",
      "\n",
      "Baseline: 2.9587 , Pred mean: 0.6286 , Pred variance: 0.0073\n"
     ]
    },
    {
     "data": {
      "image/png": "[encoded data removed]",
      "text/plain": [
       "<Figure size 1152x432 with 3 Axes>"
      ]
     },
     "metadata": {
      "needs_background": "light"
     },
     "output_type": "display_data"
    },
    {
     "name": "stdout",
     "output_type": "stream",
     "text": [
      "RandomForestRegressor() \n",
      "\n",
      "Training score: 0.885 , Testing score: 0.1874 \n",
      "\n",
      "Baseline: 2.9587 , Pred mean: 0.4937 , Pred variance: 0.0242\n"
     ]
    },
    {
     "data": {
      "image/png": "[encoded data removed]",
      "text/plain": [
       "<Figure size 1152x432 with 3 Axes>"
      ]
     },
     "metadata": {
      "needs_background": "light"
     },
     "output_type": "display_data"
    },
    {
     "name": "stdout",
     "output_type": "stream",
     "text": [
      "GradientBoostingRegressor() \n",
      "\n",
      "Training score: 0.3315 , Testing score: 0.2295 \n",
      "\n",
      "Baseline: 2.9587 , Pred mean: 0.5018 , Pred variance: 0.0085\n"
     ]
    },
    {
     "data": {
      "image/png": "[encoded data removed]",
      "text/plain": [
       "<Figure size 1152x432 with 3 Axes>"
      ]
     },
     "metadata": {
      "needs_background": "light"
     },
     "output_type": "display_data"
    },
    {
     "name": "stdout",
     "output_type": "stream",
     "text": [
      "AdaBoostRegressor() \n",
      "\n",
      "Training score: 0.2031 , Testing score: 0.1786 \n",
      "\n",
      "Baseline: 2.9587 , Pred mean: 0.4639 , Pred variance: 0.009\n"
     ]
    },
    {
     "data": {
      "image/png": "[encoded data removed]",
      "text/plain": [
       "<Figure size 1152x432 with 3 Axes>"
      ]
     },
     "metadata": {
      "needs_background": "light"
     },
     "output_type": "display_data"
    }
   ],
   "source": [
    "pred_list = []\n",
    "\n",
    "for model in [KNeighborsRegressor(), LassoCV(), LinearRegression(), RandomForestRegressor(), \\\n",
    "              GradientBoostingRegressor(), AdaBoostRegressor()]:\n",
    "    model.fit(X_train_sc, y_train)\n",
    "    print(model, '\\n\\nTraining score:',round(model.score(X_train_sc,y_train),4),\n",
    "          ', Testing score:', round(model.score(X_test_sc,y_test),4), '\\n')\n",
    "    preds = model.predict(X_test)\n",
    "    pred_list.append(preds)\n",
    "    resids = preds - y_test\n",
    "    \n",
    "    print('Baseline:',round(df.defund_support.mean(),4), ', Pred mean:', round(preds.mean(),4), \\\n",
    "          ', Pred variance:', round(np.var(preds),4))\n",
    "    \n",
    "    plt.figure(figsize = (16,6))\n",
    "    \n",
    "    pred = plt.subplot(1,3,1)\n",
    "    res = plt.subplot(1,3,2)\n",
    "    err = plt.subplot(1,3,3)\n",
    "    \n",
    "    pred.hist(preds)\n",
    "    pred.set_title('Prediction Distribution')\n",
    "    \n",
    "    res.scatter(y_test, resids)\n",
    "    res.set_title('Resids x True Values')\n",
    "    \n",
    "    err.hist(resids)\n",
    "    err.set_title('Error Distribution')\n",
    "    \n",
    "    plt.show()"
   ]
  },
  {
   "cell_type": "markdown",
   "metadata": {},
   "source": [
    "## Further experimentation\n",
    "In this section, I define two functions to help extradite the experimentation process in terms of evaluating the success of a model and interpreting the meaning of the coefficients or feature importances. Then I utilize them to narrow down the list of features in an attempt to make my models more generalizable (with some success!)."
   ]
  },
  {
   "cell_type": "code",
   "execution_count": 5,
   "metadata": {},
   "outputs": [],
   "source": [
    "def scores(model,X=X):\n",
    "    X_tr = X.loc[X_train.index]\n",
    "    X_te = X.loc[X_test.index]\n",
    "    \n",
    "    sc = StandardScaler()\n",
    "\n",
    "    X_tr = sc.fit_transform(X_tr)\n",
    "    X_te = sc.transform(X_te)\n",
    "    \n",
    "    \n",
    "    model.fit(X_tr,y_train)\n",
    "    train_score = model.score(X_tr,y_train)\n",
    "    test_score = model.score(X_te,y_test)\n",
    "    \n",
    "    return print('Training score:',round(train_score,4),\n",
    "                 ',  Testing score:',round(test_score,4),\n",
    "                 '\\nRMSE:', metrics.mean_squared_error(y_test,model.predict(X_te)) ** 0.5)\n",
    "\n",
    "\n",
    "def get_feats(model, c_or_i, num_feats,X = X):\n",
    "    if c_or_i == 'importance':\n",
    "        coefs = model.feature_importances_\n",
    "    else:\n",
    "        coefs = model.coef_\n",
    "        \n",
    "    df = pd.DataFrame(abs(coefs), X.columns, columns = ['coefs'])\n",
    "    df.sort_values('coefs', ascending = False, inplace = True)\n",
    "    return df.index[:num_feats]"
   ]
  },
  {
   "cell_type": "markdown",
   "metadata": {},
   "source": [
    "### Grid searched scores prior to feature selection\n",
    "\n",
    "I removed the GridSearchCV code because it was too much for my computer to run multiple times, but I instantiate the models below with their `best_params_`. Using those grid searched parameters, I gathered the model scores to compare them to the hopefully more generalizable models with fewer features."
   ]
  },
  {
   "cell_type": "code",
   "execution_count": 6,
   "metadata": {},
   "outputs": [],
   "source": [
    "lr = LinearRegression()\n",
    "las = LassoCV(random_state = 42)\n",
    "ada = AdaBoostRegressor(base_estimator = GradientBoostingRegressor(),\n",
    "                        learning_rate = 0.9, n_estimators = 40, random_state = 42)\n",
    "gb = GradientBoostingRegressor(min_samples_split = 3, random_state = 42)"
   ]
  },
  {
   "cell_type": "code",
   "execution_count": 7,
   "metadata": {},
   "outputs": [],
   "source": [
    "feat_list = []\n",
    "\n",
    "for model,c_or_i,name in zip([lr,las,ada,gb],['coef','coef','importance','importance'],['LR','Lasso','Ada','GB']):\n",
    "    model.fit(X_train_sc,y_train)\n",
    "    feat_list.extend(get_feats(model,c_or_i,33))"
   ]
  },
  {
   "cell_type": "markdown",
   "metadata": {},
   "source": [
    "### Grid searched scores after feature selection\n",
    "\n",
    "Now I'm going to use that narrowed feature list in the same models to see if there is any improvement. I played around with various values for the number of features I extract from each model and settled on 33 (used above) as a good number. It's still a long list of features but this cutoff seemed to have the best outcomes!"
   ]
  },
  {
   "cell_type": "code",
   "execution_count": 8,
   "metadata": {},
   "outputs": [],
   "source": [
    "# keeping track of the lists of features for all possible cutoffs to make my life easier later\n",
    "\n",
    "lr = LinearRegression()\n",
    "las = LassoCV(random_state = 42)\n",
    "rf = RandomForestRegressor(max_depth = 5, min_samples_split = 4,\n",
    "                           n_estimators = 200, random_state = 42)\n",
    "gb = GradientBoostingRegressor(min_samples_split = 3, random_state = 42)\n",
    "\n",
    "feat_dict = {}\n",
    "\n",
    "for i in range(10,50):\n",
    "    for model,c_or_i,name in zip([lr,las,rf,gb],['coef','coef','importance','importance'],['LR','Lasso','RF','GB']):\n",
    "        model.fit(X_train_sc,y_train)\n",
    "        feat_dict[i] = get_feats(model,c_or_i,i)"
   ]
  },
  {
   "cell_type": "code",
   "execution_count": 9,
   "metadata": {},
   "outputs": [],
   "source": [
    "feats = set(feat_list)\n",
    "\n",
    "X_narrow = df[feats]\n",
    "X_train_narrow = X_narrow.loc[X_train.index]\n",
    "X_test_narrow = X_narrow.loc[X_test.index]\n",
    "\n",
    "sc = StandardScaler()\n",
    "\n",
    "X_train_narrow_sc = sc.fit_transform(X_train_narrow)\n",
    "X_test_narrow_sc = sc.transform(X_test_narrow)"
   ]
  },
  {
   "cell_type": "code",
   "execution_count": 10,
   "metadata": {},
   "outputs": [
    {
     "name": "stdout",
     "output_type": "stream",
     "text": [
      "\n",
      "LR\n",
      "Training score: 0.2462 ,  Testing score: 0.211 \n",
      "RMSE: 0.24406856662702991\n"
     ]
    },
    {
     "name": "stderr",
     "output_type": "stream",
     "text": [
      "/Users/elliotrichardson/opt/anaconda3/lib/python3.8/site-packages/sklearn/linear_model/_coordinate_descent.py:525: ConvergenceWarning: Objective did not converge. You might want to increase the number of iterations. Duality gap: 0.02614947728764605, tolerance: 0.020849243933357485\n",
      "  model = cd_fast.enet_coordinate_descent_gram(\n",
      "/Users/elliotrichardson/opt/anaconda3/lib/python3.8/site-packages/sklearn/linear_model/_coordinate_descent.py:525: ConvergenceWarning: Objective did not converge. You might want to increase the number of iterations. Duality gap: 0.021298129554139678, tolerance: 0.02050881474103587\n",
      "  model = cd_fast.enet_coordinate_descent_gram(\n",
      "/Users/elliotrichardson/opt/anaconda3/lib/python3.8/site-packages/sklearn/linear_model/_coordinate_descent.py:525: ConvergenceWarning: Objective did not converge. You might want to increase the number of iterations. Duality gap: 0.02614947728764605, tolerance: 0.020849243933357485\n",
      "  model = cd_fast.enet_coordinate_descent_gram(\n"
     ]
    },
    {
     "name": "stdout",
     "output_type": "stream",
     "text": [
      "\n",
      "Lasso\n",
      "Training score: 0.2414 ,  Testing score: 0.2175 \n",
      "RMSE: 0.2430553810732822\n"
     ]
    },
    {
     "name": "stderr",
     "output_type": "stream",
     "text": [
      "/Users/elliotrichardson/opt/anaconda3/lib/python3.8/site-packages/sklearn/linear_model/_coordinate_descent.py:525: ConvergenceWarning: Objective did not converge. You might want to increase the number of iterations. Duality gap: 0.021298129554139678, tolerance: 0.02050881474103587\n",
      "  model = cd_fast.enet_coordinate_descent_gram(\n"
     ]
    },
    {
     "name": "stdout",
     "output_type": "stream",
     "text": [
      "\n",
      "Ada\n",
      "Training score: 0.3361 ,  Testing score: 0.2235 \n",
      "RMSE: 0.24212473067568085\n",
      "\n",
      "GB\n",
      "Training score: 0.3296 ,  Testing score: 0.231 \n",
      "RMSE: 0.24095693666559184\n"
     ]
    }
   ],
   "source": [
    "lr = LinearRegression()\n",
    "las = LassoCV(random_state = 42)\n",
    "ada = AdaBoostRegressor(base_estimator = GradientBoostingRegressor(),\n",
    "                        learning_rate = 0.9, n_estimators = 40, random_state = 42)\n",
    "gb = GradientBoostingRegressor(min_samples_split = 3, random_state = 42)\n",
    "\n",
    "test_scores = []\n",
    "\n",
    "for model,name in zip([lr,las,ada,gb],['LR','Lasso','Ada','GB']):\n",
    "    model.fit(X_train_narrow_sc,y_train)\n",
    "    print('\\n'+name)\n",
    "    test_scores.append(model.score(X_test_narrow_sc,y_test))\n",
    "    scores(model, X = X[feats])"
   ]
  },
  {
   "cell_type": "markdown",
   "metadata": {},
   "source": [
    "**Some success!** The models seem to be a bit more generalizable now that I've narrowed the features a bit. \n",
    "\n",
    "### Trying a voting regressor\n",
    "I'd like to be able to ensemble these models if possible so I'm going to try throwing these into a VotingRegressor."
   ]
  },
  {
   "cell_type": "code",
   "execution_count": 11,
   "metadata": {},
   "outputs": [
    {
     "name": "stdout",
     "output_type": "stream",
     "text": [
      "Training score: 0.2982 ,  Testing score: 0.2264 \n",
      "RMSE: 0.24167741051998964\n"
     ]
    }
   ],
   "source": [
    "lr = LinearRegression()\n",
    "las = LassoCV(random_state = 42)\n",
    "ada = AdaBoostRegressor(base_estimator = GradientBoostingRegressor(),\n",
    "                        learning_rate = 0.9, n_estimators = 40, random_state = 42)\n",
    "gb = GradientBoostingRegressor(min_samples_split = 3, random_state = 42)\n",
    "\n",
    "weights = [score/sum(test_scores) for score in test_scores]  # using scores from above to weight the models\n",
    "\n",
    "vote = VotingRegressor([\n",
    "    ('lr', lr),\n",
    "    ('las',las),\n",
    "    ('ada', ada),\n",
    "    ('gb', gb)],\n",
    "    weights = weights)\n",
    "\n",
    "scores(vote, X = X[feat_dict[43]])"
   ]
  },
  {
   "cell_type": "markdown",
   "metadata": {},
   "source": [
    "**Pretty good but not better than the Gradient Boost on its own.** Before I move on to my next experiment, I'm going to see how neural nets perform for this project.\n",
    "\n",
    "### Trying neural nets"
   ]
  },
  {
   "cell_type": "code",
   "execution_count": 12,
   "metadata": {},
   "outputs": [
    {
     "name": "stdout",
     "output_type": "stream",
     "text": [
      "All feats \n",
      "Training score: 0.7909 , Testing score: -0.0796 , RMSE: 0.2855 \n",
      "\n",
      "Narrowed \n",
      "Training score: 0.7531 , Testing score: -0.0892 , RMSE: 0.2868 \n",
      "\n"
     ]
    },
    {
     "data": {
      "image/png": "[encoded data removed]",
      "text/plain": [
       "<Figure size 432x288 with 1 Axes>"
      ]
     },
     "metadata": {
      "needs_background": "light"
     },
     "output_type": "display_data"
    }
   ],
   "source": [
    "for name, X_tr, X_te in zip(['All feats','Narrowed'],[X_train_sc,X_train_narrow_sc],[X_test_sc,X_test_narrow_sc]):\n",
    "    nn = Sequential()\n",
    "    nn.add(Dense(128,\n",
    "                    input_shape = (X_tr.shape[1],),\n",
    "                    activation = 'relu'))\n",
    "    nn.add(Dense(64,activation = 'relu'))\n",
    "    nn.add(Dense(32,activation = 'relu'))\n",
    "    nn.add(Dense(1, activation='sigmoid'))\n",
    "\n",
    "    nn.compile(loss='binary_crossentropy', metrics=['accuracy'], optimizer='adam')\n",
    "\n",
    "    history = nn.fit(X_tr, y_train, validation_data=(X_te, y_test),\n",
    "                     epochs=50, batch_size=512, verbose=0)\n",
    "    \n",
    "    train_score = round(metrics.r2_score(y_train,nn.predict(X_tr)),4)\n",
    "    test_score = round(metrics.r2_score(y_test,nn.predict(X_te)),4)\n",
    "    rmse = round(metrics.mean_squared_error(y_test,nn.predict(X_te)) ** 0.5,4)\n",
    "    \n",
    "    print(name,'\\nTraining score:',train_score,', Testing score:',test_score, ', RMSE:',rmse,'\\n')\n",
    "\n",
    "    plt.plot(history.history['accuracy'], label=name+': Train accuracy')\n",
    "    plt.plot(history.history['val_accuracy'], label=name+': Val accuracy')\n",
    "    plt.legend();"
   ]
  },
  {
   "cell_type": "markdown",
   "metadata": {},
   "source": [
    "**That uhhhh really didn't work.** Nevermind about the neural nets! \n",
    "\n",
    "### Finding unique feature sets for each type of model\n",
    "Now I'm going to see if there are different cutoffs that work best for each of my four best models by looping through a ton of different possibilities and keeping track of the highest performing parameters."
   ]
  },
  {
   "cell_type": "code",
   "execution_count": 13,
   "metadata": {},
   "outputs": [],
   "source": [
    "best_combo = ('model',0)\n",
    "best_score = 0\n",
    "\n",
    "best_lr_combo = 0\n",
    "best_lr_score = 0\n",
    "\n",
    "best_las_combo = 0\n",
    "best_las_score = 0\n",
    "\n",
    "best_ada_combo = 0\n",
    "best_ada_score = 0\n",
    "\n",
    "best_gb_combo = 0\n",
    "best_gb_score = 0\n",
    "\n",
    "lr = LinearRegression()\n",
    "las = LassoCV(random_state = 42)\n",
    "ada = AdaBoostRegressor(base_estimator = GradientBoostingRegressor(),\n",
    "                        learning_rate = 0.9, n_estimators = 40, random_state = 42)\n",
    "gb = GradientBoostingRegressor(min_samples_split = 3, random_state = 42)\n"
   ]
  },
  {
   "cell_type": "code",
   "execution_count": 14,
   "metadata": {
    "scrolled": true
   },
   "outputs": [
    {
     "name": "stdout",
     "output_type": "stream",
     "text": [
      "Best LR score: 0.21963383864880892 , Best LR combo: 31 \n",
      "\n",
      "Best Lasso score: 0.21971217974268686 , Best Lasso combo: 30 \n",
      "\n",
      "Best Ada score: 0.2241255096510546 , Best Ada combo: 37 \n",
      "\n",
      "Best GB score: 0.23258213590264054 , Best GB combo: 31 \n",
      "\n",
      "\n",
      "Best score: 0.23258213590264054 , Best combo: ('GB', 31)\n"
     ]
    }
   ],
   "source": [
    "for model,c_or_i,name in zip([lr,las,ada,gb],['coef','coef','importance','importance'],['LR','Lasso','Ada','GB']):\n",
    "    for i in range(10,50):\n",
    "        feat_list = feat_dict[i]\n",
    "        X_tr = X[feat_list].loc[X_train.index]\n",
    "        X_te = X[feat_list].loc[X_test.index]\n",
    "\n",
    "        sc = StandardScaler()\n",
    "\n",
    "        X_tr = sc.fit_transform(X_tr)\n",
    "        X_te = sc.transform(X_te)\n",
    "        \n",
    "        model.fit(X_tr,y_train)\n",
    "        score = model.score(X_te,y_test)\n",
    "        if score > best_score:\n",
    "            best_score = score\n",
    "            best_combo = (name,i)\n",
    "            \n",
    "        if name == 'LR' and score > best_lr_score:\n",
    "            best_lr_score = score\n",
    "            best_lr_combo = i\n",
    "\n",
    "        elif name == 'Lasso' and score > best_las_score:\n",
    "            best_las_score = score\n",
    "            best_las_combo = i\n",
    "\n",
    "        elif name == 'Ada' and score > best_ada_score:\n",
    "            best_ada_score = score\n",
    "            best_ada_combo = i\n",
    "\n",
    "        elif name == 'GB' and score > best_gb_score:\n",
    "            best_gb_score = score\n",
    "            best_gb_combo = i\n",
    "            \n",
    "print('Best LR score:', best_lr_score, ', Best LR combo:', best_lr_combo,'\\n')\n",
    "print('Best Lasso score:', best_las_score, ', Best Lasso combo:', best_las_combo,'\\n')\n",
    "print('Best Ada score:', best_ada_score, ', Best Ada combo:', best_ada_combo,'\\n')\n",
    "print('Best GB score:', best_gb_score, ', Best GB combo:', best_gb_combo,'\\n')\n",
    "print('\\nBest score:', best_score, ', Best combo:', best_combo)"
   ]
  },
  {
   "cell_type": "markdown",
   "metadata": {},
   "source": [
    "**Best score yet!** That helped the individual scores a bit and the gradient boost with 31 features got the best score so far, but I'd love to ensemble the models if possible. Since I can't use different features for each model in a voting ensemble, I'm going to make my own. \n",
    "\n",
    "### Manual voting regressor model\n",
    "\n",
    "Below, I use the test scores from above to weight the models, create predictions using the best cutoff for each model, and then calculate a weighted average for each prediction."
   ]
  },
  {
   "cell_type": "code",
   "execution_count": 15,
   "metadata": {},
   "outputs": [
    {
     "name": "stdout",
     "output_type": "stream",
     "text": [
      "Testing score: 0.22751493125351918\n"
     ]
    }
   ],
   "source": [
    "lr = LinearRegression()\n",
    "las = LassoCV(random_state = 42)\n",
    "ada = AdaBoostRegressor(base_estimator = GradientBoostingRegressor(),\n",
    "                        learning_rate = 0.9, n_estimators = 40, random_state = 42)\n",
    "gb = GradientBoostingRegressor(min_samples_split = 3, random_state = 42)\n",
    "\n",
    "test_scores = [best_lr_score,best_las_score,best_ada_score,best_gb_score]\n",
    "weights = [score/sum(test_scores) for score in test_scores]\n",
    "\n",
    "pred_df = pd.DataFrame()\n",
    "\n",
    "for model, name, weight, n in zip([lr,las,ada,gb],['LR','Lasso','Ada','GB'],weights,                             \n",
    "    [best_lr_combo,best_las_combo,best_ada_combo,best_gb_combo]):\n",
    "    \n",
    "    feats = feat_dict[n]\n",
    "    X_tr = X[feat_list].loc[X_train.index]\n",
    "    X_te = X[feat_list].loc[X_test.index]\n",
    "\n",
    "    sc = StandardScaler()\n",
    "    X_tr = sc.fit_transform(X_tr)\n",
    "    X_te = sc.transform(X_te)\n",
    "    \n",
    "    model.fit(X_tr,y_train)\n",
    "    preds = model.predict(X_te)\n",
    "    preds * weight\n",
    "    \n",
    "    pred_df[name] = list(preds * weight)\n",
    "\n",
    "pred_df['pred'] = sum([pred_df['LR'],pred_df['Lasso'],pred_df['Ada'],pred_df['GB']])\n",
    "\n",
    "print('Testing score:',metrics.r2_score(y_test, list(pred_df['pred'])))"
   ]
  },
  {
   "cell_type": "markdown",
   "metadata": {},
   "source": [
    "**Pretty good!** That's a relatively good score, but not better than the GB model on its own.\n",
    "\n",
    "## Final model selection\n",
    "\n",
    "The above experimentations failed to outperform the GradientBoostingRegressor model on it's own with 31 features. I recreated the model and found the most important features below."
   ]
  },
  {
   "cell_type": "code",
   "execution_count": 16,
   "metadata": {
    "scrolled": true
   },
   "outputs": [
    {
     "name": "stdout",
     "output_type": "stream",
     "text": [
      "Training score: 0.3268 ,  Testing score: 0.2326 \n",
      "RMSE: 0.24070672991687062\n",
      "\n",
      "~~~~~~~ Top Ten Features ~~~~~~~\n",
      "\n",
      "political_party_gop        0.274\n",
      "age_group                  0.1076\n",
      "political_party_dem        0.1005\n",
      "education_level            0.0582\n",
      "income_bracket             0.0436\n",
      "religion_atheist           0.0426\n",
      "religion_protestant        0.041\n",
      "religion_agnostic          0.038\n",
      "relig_activity             0.0333\n",
      "religion_catholic          0.0266\n"
     ]
    }
   ],
   "source": [
    "gb = GradientBoostingRegressor(min_samples_split = 3, random_state = 42)\n",
    "scores(gb,X = X[feat_dict[best_gb_combo]])\n",
    "gb_top_feats = get_feats(gb, 'importance', num_feats = 10, X = X[feat_dict[best_gb_combo]])\n",
    "print('\\n~~~~~~~ Top Ten Features ~~~~~~~\\n')\n",
    "\n",
    "coef_dict = {X[feat_dict[best_gb_combo]].columns[i]: gb.feature_importances_[i] for i in range(best_gb_combo)}\n",
    "\n",
    "for feat in gb_top_feats:\n",
    "    spaces = ' '*(25-len(feat))\n",
    "    print(feat,spaces, round(coef_dict[feat],4))"
   ]
  }
 ],
 "metadata": {
  "kernelspec": {
   "display_name": "Python 3",
   "language": "python",
   "name": "python3"
  },
  "language_info": {
   "codemirror_mode": {
    "name": "ipython",
    "version": 3
   },
   "file_extension": ".py",
   "mimetype": "text/x-python",
   "name": "python",
   "nbconvert_exporter": "python",
   "pygments_lexer": "ipython3",
   "version": "3.8.5"
  }
 },
 "nbformat": 4,
 "nbformat_minor": 4
}
