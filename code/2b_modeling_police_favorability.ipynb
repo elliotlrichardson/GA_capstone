{
 "cells": [
  {
   "cell_type": "markdown",
   "metadata": {},
   "source": [
    "# Modeling Police Favorability with UCLA Data"
   ]
  },
  {
   "cell_type": "markdown",
   "metadata": {},
   "source": [
    "In this notebook, I threw a ton of models at the wall to see what would stick. In the end, I discovered that I couldn't manage to get my R<sup>2</sup> score above .27 or so. My best model was the VotingRegressor that ensembled linear regression, lasso, random forest, and gradient boost models for a score of .2794. But even with that best score, the RMSE was .3065; in other words, when trying to predict a value between 0 and 1, my model's predictions are off by an average of .3 or 30%. So the model itself might not be that helpful, but perhaps there is something to learn from the features and their relative importances. The top ten most important features were `age, race_ethnicity_black, household_income, race_ethnicity_white, religion_atheist, fc_smallgov, news_sources_cnn, news_sources_msnbc, household_gun_owner_no, news_sources_npr, education, religion_agnostic, employment_employed,` and `religion_none`. "
   ]
  },
  {
   "cell_type": "markdown",
   "metadata": {},
   "source": [
    "## Imports and prep\n",
    "\n",
    "After importing the various libraries and packages I'm going to use in this section, I split the dataset into training and testing sets, scaled my features, and used MinMaxScaler to put the target variable (police favorability) on a scale of 0 to 1. "
   ]
  },
  {
   "cell_type": "code",
   "execution_count": 1,
   "metadata": {},
   "outputs": [],
   "source": [
    "import pandas as pd\n",
    "import numpy as np\n",
    "import matplotlib.pyplot as plt\n",
    "import seaborn as sns\n",
    "\n",
    "from sklearn.model_selection import cross_val_score, GridSearchCV, train_test_split\n",
    "from sklearn.preprocessing import MinMaxScaler, StandardScaler\n",
    "from sklearn.neighbors import KNeighborsRegressor\n",
    "from sklearn import metrics\n",
    "from sklearn.linear_model import Lasso, LassoCV, LinearRegression\n",
    "from sklearn.ensemble import RandomForestRegressor, GradientBoostingRegressor, AdaBoostRegressor, VotingRegressor\n",
    "from sklearn.pipeline import Pipeline\n",
    "from sklearn.preprocessing import PolynomialFeatures\n",
    "\n",
    "from tensorflow.keras.models import Sequential\n",
    "from tensorflow.keras.layers import Dense"
   ]
  },
  {
   "cell_type": "code",
   "execution_count": 2,
   "metadata": {
    "scrolled": true
   },
   "outputs": [
    {
     "data": {
      "text/html": [
       "<div>\n",
       "<style scoped>\n",
       "    .dataframe tbody tr th:only-of-type {\n",
       "        vertical-align: middle;\n",
       "    }\n",
       "\n",
       "    .dataframe tbody tr th {\n",
       "        vertical-align: top;\n",
       "    }\n",
       "\n",
       "    .dataframe thead th {\n",
       "        text-align: right;\n",
       "    }\n",
       "</style>\n",
       "<table border=\"1\" class=\"dataframe\">\n",
       "  <thead>\n",
       "    <tr style=\"text-align: right;\">\n",
       "      <th></th>\n",
       "      <th>group_favorability_the_police</th>\n",
       "      <th>news_sources_facebook</th>\n",
       "      <th>news_sources_cnn</th>\n",
       "      <th>news_sources_msnbc</th>\n",
       "      <th>news_sources_fox</th>\n",
       "      <th>news_sources_network</th>\n",
       "      <th>news_sources_localtv</th>\n",
       "      <th>news_sources_telemundo</th>\n",
       "      <th>news_sources_npr</th>\n",
       "      <th>news_sources_amtalk</th>\n",
       "      <th>...</th>\n",
       "      <th>region_northeast</th>\n",
       "      <th>region_south</th>\n",
       "      <th>region_west</th>\n",
       "      <th>race_ethnicity_asian</th>\n",
       "      <th>race_ethnicity_black</th>\n",
       "      <th>race_ethnicity_native</th>\n",
       "      <th>race_ethnicity_pacific_islander</th>\n",
       "      <th>race_ethnicity_white</th>\n",
       "      <th>household_gun_owner_no</th>\n",
       "      <th>household_gun_owner_yes</th>\n",
       "    </tr>\n",
       "  </thead>\n",
       "  <tbody>\n",
       "    <tr>\n",
       "      <th>0</th>\n",
       "      <td>2.0</td>\n",
       "      <td>1</td>\n",
       "      <td>0</td>\n",
       "      <td>0</td>\n",
       "      <td>0</td>\n",
       "      <td>1</td>\n",
       "      <td>1</td>\n",
       "      <td>0</td>\n",
       "      <td>0</td>\n",
       "      <td>0</td>\n",
       "      <td>...</td>\n",
       "      <td>0</td>\n",
       "      <td>1</td>\n",
       "      <td>0</td>\n",
       "      <td>0</td>\n",
       "      <td>0</td>\n",
       "      <td>0</td>\n",
       "      <td>0</td>\n",
       "      <td>1</td>\n",
       "      <td>0</td>\n",
       "      <td>0</td>\n",
       "    </tr>\n",
       "    <tr>\n",
       "      <th>1</th>\n",
       "      <td>1.0</td>\n",
       "      <td>1</td>\n",
       "      <td>0</td>\n",
       "      <td>0</td>\n",
       "      <td>0</td>\n",
       "      <td>0</td>\n",
       "      <td>0</td>\n",
       "      <td>0</td>\n",
       "      <td>0</td>\n",
       "      <td>0</td>\n",
       "      <td>...</td>\n",
       "      <td>0</td>\n",
       "      <td>1</td>\n",
       "      <td>0</td>\n",
       "      <td>0</td>\n",
       "      <td>0</td>\n",
       "      <td>0</td>\n",
       "      <td>0</td>\n",
       "      <td>1</td>\n",
       "      <td>1</td>\n",
       "      <td>0</td>\n",
       "    </tr>\n",
       "    <tr>\n",
       "      <th>2</th>\n",
       "      <td>1.0</td>\n",
       "      <td>1</td>\n",
       "      <td>0</td>\n",
       "      <td>0</td>\n",
       "      <td>1</td>\n",
       "      <td>1</td>\n",
       "      <td>1</td>\n",
       "      <td>0</td>\n",
       "      <td>0</td>\n",
       "      <td>1</td>\n",
       "      <td>...</td>\n",
       "      <td>0</td>\n",
       "      <td>1</td>\n",
       "      <td>0</td>\n",
       "      <td>0</td>\n",
       "      <td>0</td>\n",
       "      <td>0</td>\n",
       "      <td>0</td>\n",
       "      <td>1</td>\n",
       "      <td>1</td>\n",
       "      <td>0</td>\n",
       "    </tr>\n",
       "    <tr>\n",
       "      <th>3</th>\n",
       "      <td>1.0</td>\n",
       "      <td>0</td>\n",
       "      <td>0</td>\n",
       "      <td>0</td>\n",
       "      <td>1</td>\n",
       "      <td>0</td>\n",
       "      <td>0</td>\n",
       "      <td>0</td>\n",
       "      <td>0</td>\n",
       "      <td>0</td>\n",
       "      <td>...</td>\n",
       "      <td>0</td>\n",
       "      <td>0</td>\n",
       "      <td>1</td>\n",
       "      <td>0</td>\n",
       "      <td>0</td>\n",
       "      <td>0</td>\n",
       "      <td>0</td>\n",
       "      <td>1</td>\n",
       "      <td>0</td>\n",
       "      <td>1</td>\n",
       "    </tr>\n",
       "    <tr>\n",
       "      <th>4</th>\n",
       "      <td>1.0</td>\n",
       "      <td>0</td>\n",
       "      <td>0</td>\n",
       "      <td>0</td>\n",
       "      <td>1</td>\n",
       "      <td>0</td>\n",
       "      <td>1</td>\n",
       "      <td>0</td>\n",
       "      <td>0</td>\n",
       "      <td>0</td>\n",
       "      <td>...</td>\n",
       "      <td>0</td>\n",
       "      <td>0</td>\n",
       "      <td>0</td>\n",
       "      <td>0</td>\n",
       "      <td>0</td>\n",
       "      <td>0</td>\n",
       "      <td>0</td>\n",
       "      <td>1</td>\n",
       "      <td>1</td>\n",
       "      <td>0</td>\n",
       "    </tr>\n",
       "  </tbody>\n",
       "</table>\n",
       "<p>5 rows × 108 columns</p>\n",
       "</div>"
      ],
      "text/plain": [
       "   group_favorability_the_police  news_sources_facebook  news_sources_cnn  \\\n",
       "0                            2.0                      1                 0   \n",
       "1                            1.0                      1                 0   \n",
       "2                            1.0                      1                 0   \n",
       "3                            1.0                      0                 0   \n",
       "4                            1.0                      0                 0   \n",
       "\n",
       "   news_sources_msnbc  news_sources_fox  news_sources_network  \\\n",
       "0                   0                 0                     1   \n",
       "1                   0                 0                     0   \n",
       "2                   0                 1                     1   \n",
       "3                   0                 1                     0   \n",
       "4                   0                 1                     0   \n",
       "\n",
       "   news_sources_localtv  news_sources_telemundo  news_sources_npr  \\\n",
       "0                     1                       0                 0   \n",
       "1                     0                       0                 0   \n",
       "2                     1                       0                 0   \n",
       "3                     0                       0                 0   \n",
       "4                     1                       0                 0   \n",
       "\n",
       "   news_sources_amtalk  ...  region_northeast  region_south  region_west  \\\n",
       "0                    0  ...                 0             1            0   \n",
       "1                    0  ...                 0             1            0   \n",
       "2                    1  ...                 0             1            0   \n",
       "3                    0  ...                 0             0            1   \n",
       "4                    0  ...                 0             0            0   \n",
       "\n",
       "   race_ethnicity_asian  race_ethnicity_black  race_ethnicity_native  \\\n",
       "0                     0                     0                      0   \n",
       "1                     0                     0                      0   \n",
       "2                     0                     0                      0   \n",
       "3                     0                     0                      0   \n",
       "4                     0                     0                      0   \n",
       "\n",
       "   race_ethnicity_pacific_islander  race_ethnicity_white  \\\n",
       "0                                0                     1   \n",
       "1                                0                     1   \n",
       "2                                0                     1   \n",
       "3                                0                     1   \n",
       "4                                0                     1   \n",
       "\n",
       "   household_gun_owner_no  household_gun_owner_yes  \n",
       "0                       0                        0  \n",
       "1                       1                        0  \n",
       "2                       1                        0  \n",
       "3                       0                        1  \n",
       "4                       1                        0  \n",
       "\n",
       "[5 rows x 108 columns]"
      ]
     },
     "execution_count": 2,
     "metadata": {},
     "output_type": "execute_result"
    }
   ],
   "source": [
    "df = pd.read_csv('../data/ucla_cleaned.csv')\n",
    "df.head()"
   ]
  },
  {
   "cell_type": "code",
   "execution_count": 3,
   "metadata": {},
   "outputs": [],
   "source": [
    "X = df.drop(columns = 'group_favorability_the_police')\n",
    "y = df['group_favorability_the_police']\n",
    "\n",
    "X_train, X_test, y_train, y_test = train_test_split(X, y, test_size = .2, random_state = 42, stratify = y)\n",
    "\n",
    "sc = StandardScaler()\n",
    "\n",
    "X_train_sc = sc.fit_transform(X_train)\n",
    "X_test_sc = sc.transform(X_test)\n",
    "\n",
    "mm = MinMaxScaler()\n",
    "\n",
    "y_train = mm.fit_transform(np.array(y_train).reshape(-1, 1))[:,0]\n",
    "y_test = mm.transform(np.array(y_test).reshape(-1, 1))[:,0]"
   ]
  },
  {
   "cell_type": "markdown",
   "metadata": {},
   "source": [
    "## Throwing models at the wall and seeing what sticks\n",
    "\n",
    "In this section, I created a for loop to see which models seemed to be the best fit for this project. I mostly focused on the testing scores when evaluating these, but was also interested in the range of predictions and the pattern of residuals. I moved forward with the four models from the loop with the highest testing scores to experiment further."
   ]
  },
  {
   "cell_type": "code",
   "execution_count": 4,
   "metadata": {
    "scrolled": false
   },
   "outputs": [
    {
     "name": "stdout",
     "output_type": "stream",
     "text": [
      "KNeighborsRegressor() \n",
      "\n",
      "Training score: 0.3692 , Testing score: 0.0567 \n",
      "\n",
      "Baseline: 2.1831 , Pred mean: 0.2926 , Pred variance: 0.0084\n"
     ]
    },
    {
     "data": {
      "image/png": "[encoded data removed]",
      "text/plain": [
       "<Figure size 1152x432 with 3 Axes>"
      ]
     },
     "metadata": {
      "needs_background": "light"
     },
     "output_type": "display_data"
    },
    {
     "name": "stdout",
     "output_type": "stream",
     "text": [
      "LassoCV() \n",
      "\n",
      "Training score: 0.2803 , Testing score: 0.2724 \n",
      "\n",
      "Baseline: 2.1831 , Pred mean: -3.6339 , Pred variance: 1.8145\n"
     ]
    },
    {
     "data": {
      "image/png": "[encoded data removed]",
      "text/plain": [
       "<Figure size 1152x432 with 3 Axes>"
      ]
     },
     "metadata": {
      "needs_background": "light"
     },
     "output_type": "display_data"
    },
    {
     "name": "stdout",
     "output_type": "stream",
     "text": [
      "LinearRegression() \n",
      "\n",
      "Training score: 0.2962 , Testing score: 0.2725 \n",
      "\n",
      "Baseline: 2.1831 , Pred mean: 46486042096.0464 , Pred variance: 2.1675373859597877e+20\n"
     ]
    },
    {
     "data": {
      "image/png": "[encoded data removed]",
      "text/plain": [
       "<Figure size 1152x432 with 3 Axes>"
      ]
     },
     "metadata": {
      "needs_background": "light"
     },
     "output_type": "display_data"
    },
    {
     "name": "stdout",
     "output_type": "stream",
     "text": [
      "RandomForestRegressor() \n",
      "\n",
      "Training score: 0.8946 , Testing score: 0.2438 \n",
      "\n",
      "Baseline: 2.1831 , Pred mean: 0.347 , Pred variance: 0.0139\n"
     ]
    },
    {
     "data": {
      "image/png": "[encoded data removed]",
      "text/plain": [
       "<Figure size 1152x432 with 3 Axes>"
      ]
     },
     "metadata": {
      "needs_background": "light"
     },
     "output_type": "display_data"
    },
    {
     "name": "stdout",
     "output_type": "stream",
     "text": [
      "GradientBoostingRegressor() \n",
      "\n",
      "Training score: 0.3766 , Testing score: 0.2536 \n",
      "\n",
      "Baseline: 2.1831 , Pred mean: 0.245 , Pred variance: 0.0074\n"
     ]
    },
    {
     "data": {
      "image/png": "[encoded data removed]",
      "text/plain": [
       "<Figure size 1152x432 with 3 Axes>"
      ]
     },
     "metadata": {
      "needs_background": "light"
     },
     "output_type": "display_data"
    },
    {
     "name": "stdout",
     "output_type": "stream",
     "text": [
      "AdaBoostRegressor() \n",
      "\n",
      "Training score: 0.2028 , Testing score: 0.1627 \n",
      "\n",
      "Baseline: 2.1831 , Pred mean: 0.3387 , Pred variance: 0.0008\n"
     ]
    },
    {
     "data": {
      "image/png": "[encoded data removed]",
      "text/plain": [
       "<Figure size 1152x432 with 3 Axes>"
      ]
     },
     "metadata": {
      "needs_background": "light"
     },
     "output_type": "display_data"
    }
   ],
   "source": [
    "pred_list = []\n",
    "\n",
    "for model in [KNeighborsRegressor(), LassoCV(), LinearRegression(), RandomForestRegressor(), \\\n",
    "              GradientBoostingRegressor(), AdaBoostRegressor()]:\n",
    "    model.fit(X_train_sc, y_train)\n",
    "    print(model, '\\n\\nTraining score:',round(model.score(X_train_sc,y_train),4),\n",
    "          ', Testing score:', round(model.score(X_test_sc,y_test),4), '\\n')\n",
    "    preds = model.predict(X_test)\n",
    "    pred_list.append(preds)\n",
    "    resids = preds - y_test\n",
    "    \n",
    "    print('Baseline:',round(df.group_favorability_the_police.mean(),4), ', Pred mean:', round(preds.mean(),4), \\\n",
    "          ', Pred variance:', round(np.var(preds),4))\n",
    "    \n",
    "    plt.figure(figsize = (16,6))\n",
    "    \n",
    "    pred = plt.subplot(1,3,1)\n",
    "    res = plt.subplot(1,3,2)\n",
    "    err = plt.subplot(1,3,3)\n",
    "    \n",
    "    pred.hist(preds)\n",
    "    pred.set_title('Prediction Distribution')\n",
    "    \n",
    "    res.scatter(y_test, resids)\n",
    "    res.set_title('Resids x True Values')\n",
    "    \n",
    "    err.hist(resids)\n",
    "    err.set_title('Error Distribution')\n",
    "    \n",
    "    plt.show()"
   ]
  },
  {
   "cell_type": "markdown",
   "metadata": {},
   "source": [
    "## Further experimentation\n",
    "In this section, I define two functions to help extradite the experimentation process in terms of evaluating the success of a model and interpreting the meaning of the coefficients or feature importances. Then I utilize them to narrow down the list of features in an attempt to make my models more generalizable (with some success!)."
   ]
  },
  {
   "cell_type": "code",
   "execution_count": 5,
   "metadata": {},
   "outputs": [],
   "source": [
    "def scores(model,X=X):\n",
    "    X_tr = X.loc[X_train.index]\n",
    "    X_te = X.loc[X_test.index]\n",
    "    \n",
    "    sc = StandardScaler()\n",
    "\n",
    "    X_tr = sc.fit_transform(X_tr)\n",
    "    X_te = sc.transform(X_te)\n",
    "    \n",
    "    \n",
    "    model.fit(X_tr,y_train)\n",
    "    train_score = model.score(X_tr,y_train)\n",
    "    test_score = model.score(X_te,y_test)\n",
    "    \n",
    "    return print('Training score:',round(train_score,4),\n",
    "                 ',  Testing score:',round(test_score,4),\n",
    "                 '\\nRMSE:', metrics.mean_squared_error(y_test,model.predict(X_te)) ** 0.5)\n",
    "\n",
    "\n",
    "def get_feats(model, c_or_i, num_feats,X = X):\n",
    "    if c_or_i == 'importance':\n",
    "        coefs = model.feature_importances_\n",
    "    else:\n",
    "        coefs = model.coef_\n",
    "        \n",
    "    df = pd.DataFrame(abs(coefs), X.columns, columns = ['coefs'])\n",
    "    df.sort_values('coefs', ascending = False, inplace = True)\n",
    "    return df.index[:num_feats]"
   ]
  },
  {
   "cell_type": "markdown",
   "metadata": {},
   "source": [
    "### Grid searched scores prior to feature selection\n",
    "\n",
    "I removed the GridSearchCV code because it was too much for my computer to run multiple times, but I instantiate the models below with their `best_params_`. Using those grid searched parameters, I gathered the model scores to compare them to the hopefully more generalizable models with fewer features."
   ]
  },
  {
   "cell_type": "code",
   "execution_count": 6,
   "metadata": {},
   "outputs": [],
   "source": [
    "lr = LinearRegression()\n",
    "las = LassoCV(random_state = 42)\n",
    "rf = RandomForestRegressor(max_depth = 5, min_samples_split = 4,\n",
    "                           n_estimators = 200, random_state = 42)\n",
    "gb = GradientBoostingRegressor(min_samples_split = 3, random_state = 42)"
   ]
  },
  {
   "cell_type": "code",
   "execution_count": 7,
   "metadata": {},
   "outputs": [
    {
     "name": "stdout",
     "output_type": "stream",
     "text": [
      "LR\n",
      "Training score: 0.2962 ,  Testing score: 0.2725 \n",
      "RMSE: 0.30798678033496996\n",
      "Lasso\n",
      "Training score: 0.2803 ,  Testing score: 0.2724 \n",
      "RMSE: 0.30799386643289833\n",
      "RF\n",
      "Training score: 0.309 ,  Testing score: 0.2274 \n",
      "RMSE: 0.3173808939874924\n",
      "GB\n",
      "Training score: 0.3767 ,  Testing score: 0.257 \n",
      "RMSE: 0.3112479841003728\n"
     ]
    }
   ],
   "source": [
    "feat_list = []\n",
    "\n",
    "for model,c_or_i,name in zip([lr,las,rf,gb],['coef','coef','importance','importance'],['LR','Lasso','RF','GB']):\n",
    "    model.fit(X_train_sc,y_train)\n",
    "    feat_list.extend(get_feats(model,c_or_i,33))\n",
    "    print(name)\n",
    "    scores(model)"
   ]
  },
  {
   "cell_type": "markdown",
   "metadata": {},
   "source": [
    "### Grid searched scores after feature selection\n",
    "\n",
    "Now I'm going to use that narrowed feature list in the same models to see if there is any improvement. I played around with various values for the number of features I extract from each model and settled on 33 (used above) as a good number. It's still a long list of features but this cutoff seemed to have the best outcomes!"
   ]
  },
  {
   "cell_type": "code",
   "execution_count": 8,
   "metadata": {},
   "outputs": [],
   "source": [
    "# keeping track of the lists of features for all possible cutoffs to make my life easier later\n",
    "\n",
    "lr = LinearRegression()\n",
    "las = LassoCV(random_state = 42)\n",
    "rf = RandomForestRegressor(max_depth = 5, min_samples_split = 4,\n",
    "                           n_estimators = 200, random_state = 42)\n",
    "gb = GradientBoostingRegressor(min_samples_split = 3, random_state = 42)\n",
    "\n",
    "feat_dict = {}\n",
    "\n",
    "for i in range(10,109):\n",
    "    for model,c_or_i,name in zip([lr,las,rf,gb],['coef','coef','importance','importance'],['LR','Lasso','RF','GB']):\n",
    "        model.fit(X_train_sc,y_train)\n",
    "        feat_dict[i] = get_feats(model,c_or_i,i)"
   ]
  },
  {
   "cell_type": "code",
   "execution_count": 9,
   "metadata": {},
   "outputs": [],
   "source": [
    "feats = set(feat_list)\n",
    "\n",
    "X_narrow = df[feats]\n",
    "X_train_narrow = X_narrow.loc[X_train.index]\n",
    "X_test_narrow = X_narrow.loc[X_test.index]\n",
    "\n",
    "sc = StandardScaler()\n",
    "\n",
    "X_train_narrow_sc = sc.fit_transform(X_train_narrow)\n",
    "X_test_narrow_sc = sc.transform(X_test_narrow)"
   ]
  },
  {
   "cell_type": "code",
   "execution_count": 10,
   "metadata": {
    "scrolled": true
   },
   "outputs": [
    {
     "name": "stdout",
     "output_type": "stream",
     "text": [
      "\n",
      "LR\n",
      "Training score: 0.2901 ,  Testing score: 0.2753 \n",
      "RMSE: 0.3073846931335686\n",
      "\n",
      "Lasso\n",
      "Training score: 0.2873 ,  Testing score: 0.2746 \n",
      "RMSE: 0.30752868693938845\n",
      "\n",
      "RF\n",
      "Training score: 0.3086 ,  Testing score: 0.2285 \n",
      "RMSE: 0.3171625938423311\n",
      "\n",
      "GB\n",
      "Training score: 0.371 ,  Testing score: 0.2558 \n",
      "RMSE: 0.3114916490632731\n"
     ]
    }
   ],
   "source": [
    "lr = LinearRegression()\n",
    "las = LassoCV(random_state = 42)\n",
    "rf = RandomForestRegressor(max_depth = 5, min_samples_split = 4\n",
    "                           , n_estimators = 200, random_state = 42)\n",
    "gb = GradientBoostingRegressor(min_samples_split = 3, random_state = 42)\n",
    "\n",
    "test_scores = []\n",
    "\n",
    "for model,name in zip([lr,las,rf,gb],['LR','Lasso','RF','GB']):\n",
    "    model.fit(X_train_narrow_sc,y_train)\n",
    "    print('\\n'+name)\n",
    "    test_scores.append(model.score(X_test_narrow_sc,y_test))\n",
    "    scores(model, X = X[feats])"
   ]
  },
  {
   "cell_type": "markdown",
   "metadata": {},
   "source": [
    "**Some success!** The models seem to be a bit more generalizable now that I've narrowed the features a bit. \n",
    "\n",
    "### Trying a voting regressor\n",
    "I'd like to be able to ensemble these models if possible so I'm going to try throwing these into a VotingRegressor. I played around with various cutoffs and found 44 to be the most successful."
   ]
  },
  {
   "cell_type": "code",
   "execution_count": 11,
   "metadata": {
    "scrolled": true
   },
   "outputs": [
    {
     "name": "stdout",
     "output_type": "stream",
     "text": [
      "Training score: 0.407 ,  Testing score: 0.2795 \n",
      "RMSE: 0.3064826133888042\n"
     ]
    }
   ],
   "source": [
    "lr = LinearRegression()\n",
    "las = LassoCV(random_state = 42)\n",
    "rf = RandomForestRegressor(max_depth = 10, min_samples_split = 3, n_estimators = 200, random_state = 42)\n",
    "gb = GradientBoostingRegressor(min_samples_split = 3, random_state = 42)\n",
    "\n",
    "weights = [score/sum(test_scores) for score in test_scores] # using scores from above to weight the models\n",
    "\n",
    "vote = VotingRegressor([\n",
    "    ('lr', lr),\n",
    "    ('las',las),\n",
    "    ('rf', rf),\n",
    "    ('gb', gb)],\n",
    "    weights = weights)\n",
    "\n",
    "scores(vote, X = X[feat_dict[44]])"
   ]
  },
  {
   "cell_type": "markdown",
   "metadata": {},
   "source": [
    "**Yay! Best score yet.** Before I move on to my next experiment, I'm going to see how neural nets perform for this project.\n",
    "\n",
    "### Trying neural nets"
   ]
  },
  {
   "cell_type": "code",
   "execution_count": 12,
   "metadata": {
    "scrolled": false
   },
   "outputs": [
    {
     "name": "stdout",
     "output_type": "stream",
     "text": [
      "All feats \n",
      "Training score: 0.9409 , Testing score: -0.1658 , RMSE: 0.3899 \n",
      "\n",
      "Narrowed \n",
      "Training score: 0.9024 , Testing score: -0.0665 , RMSE: 0.3729 \n",
      "\n"
     ]
    },
    {
     "data": {
      "image/png": "[encoded data removed]",
      "text/plain": [
       "<Figure size 432x288 with 1 Axes>"
      ]
     },
     "metadata": {
      "needs_background": "light"
     },
     "output_type": "display_data"
    }
   ],
   "source": [
    "for name, X_tr, X_te in zip(['All feats','Narrowed'],[X_train_sc,X_train_narrow_sc],[X_test_sc,X_test_narrow_sc]):\n",
    "    nn = Sequential()\n",
    "    nn.add(Dense(128,\n",
    "                    input_shape = (X_tr.shape[1],),\n",
    "                    activation = 'relu'))\n",
    "    nn.add(Dense(64,activation = 'relu'))\n",
    "    nn.add(Dense(32,activation = 'relu'))\n",
    "    nn.add(Dense(1, activation='sigmoid'))\n",
    "\n",
    "    nn.compile(loss='binary_crossentropy', metrics=['accuracy'], optimizer='adam')\n",
    "\n",
    "    history = nn.fit(X_tr, y_train, validation_data=(X_te, y_test),\n",
    "                     epochs=50, batch_size=512, verbose=0)\n",
    "    \n",
    "    train_score = round(metrics.r2_score(y_train,nn.predict(X_tr)),4)\n",
    "    test_score = round(metrics.r2_score(y_test,nn.predict(X_te)),4)\n",
    "    rmse = round(metrics.mean_squared_error(y_test,nn.predict(X_te)) ** 0.5,4)\n",
    "    \n",
    "    print(name,'\\nTraining score:',train_score,', Testing score:',test_score, ', RMSE:',rmse,'\\n')\n",
    "\n",
    "    plt.plot(history.history['accuracy'], label=name+': Train accuracy')\n",
    "    plt.plot(history.history['val_accuracy'], label=name+': Val accuracy')\n",
    "    plt.legend();"
   ]
  },
  {
   "cell_type": "markdown",
   "metadata": {},
   "source": [
    "**That uhhhh really didn't work.** Nevermind about the neural nets! \n",
    "\n",
    "### Finding unique feature sets for each type of model\n",
    "Now I'm going to see if there are different cutoffs that work best for each of my four best models by looping through a ton of different possibilities and keeping track of the highest performing parameters."
   ]
  },
  {
   "cell_type": "code",
   "execution_count": 13,
   "metadata": {},
   "outputs": [],
   "source": [
    "# establishing variables to overwrite to keep track of my best parameters and make my code more dynamic\n",
    "best_combo = ('model',0)\n",
    "best_score = 0\n",
    "\n",
    "best_lr_combo = 0\n",
    "best_lr_score = 0\n",
    "\n",
    "best_las_combo = 0\n",
    "best_las_score = 0\n",
    "\n",
    "best_rf_combo = 0\n",
    "best_rf_score = 0\n",
    "\n",
    "best_gb_combo = 0\n",
    "best_gb_score = 0\n",
    "\n",
    "lr = LinearRegression()\n",
    "las = LassoCV(random_state = 42)\n",
    "rf = RandomForestRegressor(max_depth = 5, min_samples_split = 4,\n",
    "                       n_estimators = 200, random_state = 42)\n",
    "gb = GradientBoostingRegressor(min_samples_split = 3, random_state = 42)\n",
    "    "
   ]
  },
  {
   "cell_type": "code",
   "execution_count": 14,
   "metadata": {},
   "outputs": [
    {
     "name": "stdout",
     "output_type": "stream",
     "text": [
      "Best LR score: 0.27786881196070057 , Best LR combo: 46 \n",
      "\n",
      "Best Lasso score: 0.2774832581967903 , Best Lasso combo: 46 \n",
      "\n",
      "Best RF score: 0.2315562549445006 , Best RF combo: 32 \n",
      "\n",
      "Best GB score: 0.26131826522933477 , Best GB combo: 18 \n",
      "\n",
      "\n",
      "Best score: 0.27786881196070057 , Best combo: ('LR', 46)\n"
     ]
    }
   ],
   "source": [
    "# trying all combinations of models and cutoffs and keeping track of the best outcomes for each model\n",
    "for model,c_or_i,name in zip([lr,las,rf,gb],['coef','coef','importance','importance'],['LR','Lasso','RF','GB']):\n",
    "    for i in range(10,109):\n",
    "        feat_list = feat_dict[i]\n",
    "        X_tr = X[feat_list].loc[X_train.index]\n",
    "        X_te = X[feat_list].loc[X_test.index]\n",
    "\n",
    "        sc = StandardScaler()\n",
    "\n",
    "        X_tr = sc.fit_transform(X_tr)\n",
    "        X_te = sc.transform(X_te)\n",
    "        \n",
    "        model.fit(X_tr,y_train)\n",
    "        score = model.score(X_te,y_test)\n",
    "        if score > best_score:\n",
    "            best_score = score\n",
    "            best_combo = (name,i)\n",
    "            \n",
    "        if name == 'LR' and score > best_lr_score:\n",
    "            best_lr_score = score\n",
    "            best_lr_combo = i\n",
    "\n",
    "        elif name == 'Lasso' and score > best_las_score:\n",
    "            best_las_score = score\n",
    "            best_las_combo = i\n",
    "\n",
    "        elif name == 'RF' and score > best_rf_score:\n",
    "            best_rf_score = score\n",
    "            best_rf_combo = i\n",
    "\n",
    "        elif name == 'GB' and score > best_gb_score:\n",
    "            best_gb_score = score\n",
    "            best_gb_combo = i\n",
    "            \n",
    "print('Best LR score:', best_lr_score, ', Best LR combo:', best_lr_combo,'\\n')\n",
    "print('Best Lasso score:', best_las_score, ', Best Lasso combo:', best_las_combo,'\\n')\n",
    "print('Best RF score:', best_rf_score, ', Best RF combo:', best_rf_combo,'\\n')\n",
    "print('Best GB score:', best_gb_score, ', Best GB combo:', best_gb_combo,'\\n')\n",
    "print('\\nBest score:', best_score, ', Best combo:', best_combo)"
   ]
  },
  {
   "cell_type": "markdown",
   "metadata": {},
   "source": [
    "**That helped the individual scores a tiny bit but, like I said, I'd love to ensemble the models if possible.** Since I can't use different features for each model in a voting ensemble, I'm going to make my own. \n",
    "\n",
    "### Manual voting regressor model\n",
    "\n",
    "Below, I use the test scores from above to weight the models, create predictions using the best cutoff for each model, and then calculate a weighted average for each prediction."
   ]
  },
  {
   "cell_type": "code",
   "execution_count": 15,
   "metadata": {},
   "outputs": [
    {
     "name": "stdout",
     "output_type": "stream",
     "text": [
      "LR:     46 features\n",
      "Lasso:  46 features\n",
      "RF:     32 features\n",
      "GB:     18 features\n",
      "\n",
      "Testing score: 0.2841098815658697\n"
     ]
    }
   ],
   "source": [
    "lr = LinearRegression()\n",
    "las = LassoCV(random_state = 42)\n",
    "rf = RandomForestRegressor(max_depth = 10, min_samples_split = 3, n_estimators = 200, random_state = 42)\n",
    "gb = GradientBoostingRegressor(min_samples_split = 3, random_state = 42)\n",
    "\n",
    "test_scores = [best_lr_score,best_las_score,best_rf_score,best_gb_score]\n",
    "weights = [score/(best_lr_score + best_las_score + best_rf_score + best_gb_score) for score in test_scores]\n",
    "\n",
    "pred_df = pd.DataFrame()\n",
    "\n",
    "for model, name, weight, n in zip([lr,las,rf,gb],['LR','Lasso','RF','GB'],weights,                             \n",
    "    [best_lr_combo,best_las_combo,best_rf_combo,best_gb_combo]):\n",
    "    \n",
    "    spaces = ' '*(5-len(name))\n",
    "    print(name+':',spaces,n,'features')\n",
    "    \n",
    "    feats = feat_dict[n]\n",
    "    X_tr = X[feats].loc[X_train.index]\n",
    "    X_te = X[feats].loc[X_test.index]\n",
    "\n",
    "    sc = StandardScaler()\n",
    "    X_tr = sc.fit_transform(X_tr)\n",
    "    X_te = sc.transform(X_te)\n",
    "    \n",
    "    model.fit(X_tr,y_train)\n",
    "    preds = model.predict(X_te)\n",
    "    \n",
    "    pred_df[name] = list(preds * weight)\n",
    "\n",
    "pred_df['pred'] = sum([pred_df['LR'],pred_df['Lasso'],pred_df['RF'],pred_df['GB']])\n",
    "\n",
    "print('\\nTesting score:',metrics.r2_score(y_test, list(pred_df['pred'])))"
   ]
  },
  {
   "cell_type": "markdown",
   "metadata": {},
   "source": [
    "**The best score yet!** Yay! I think this is just about as good as it's going to get.\n",
    "\n",
    "## Final model selection\n",
    "\n",
    "So my best model was the manual voting regressor that ensembled linear, lasso, random forest, and gradient boost regression models with 46, 46, 32, and 18 features respectively. Now I'm going to look at the features and their coefficients to interpret the results."
   ]
  },
  {
   "cell_type": "code",
   "execution_count": 16,
   "metadata": {},
   "outputs": [],
   "source": [
    "coef_df = pd.DataFrame()\n",
    "coef_df['feature'] = X.columns\n",
    "\n",
    "for model, name, c_or_i, n in zip([lr,las,rf,gb],['LR','Lasso','RF','GB'],\n",
    "                               ['coef','coef','importance','importance'],\n",
    "                               [best_lr_combo,best_las_combo,best_rf_combo,best_gb_combo]):\n",
    "    \n",
    "    feats = feat_dict[n]\n",
    "    \n",
    "    model_coef_df = pd.DataFrame()\n",
    "    model_coef_df['feature'] = feats\n",
    "\n",
    "    X_tr = X[feats].loc[X_train.index]\n",
    "    X_te = X[feats].loc[X_test.index]\n",
    "    \n",
    "    sc = StandardScaler()\n",
    "    X_tr = sc.fit_transform(X_tr)\n",
    "    X_te = sc.transform(X_te)\n",
    "    \n",
    "    model.fit(X_tr,y_train)\n",
    "    \n",
    "    if c_or_i == 'importance':\n",
    "        model_coef_df[name] = model.feature_importances_\n",
    "    else: \n",
    "        model_coef_df[name] = model.coef_\n",
    "    \n",
    "    coef_df = pd.merge(coef_df, model_coef_df, how = 'left', on = 'feature')\n",
    "    \n",
    "coef_df.fillna(0,inplace=True)    \n",
    "coef_df['avg'] = (coef_df['LR'] + coef_df['Lasso'] + coef_df['RF'] + coef_df['GB']) / 4"
   ]
  },
  {
   "cell_type": "code",
   "execution_count": 17,
   "metadata": {},
   "outputs": [],
   "source": [
    "coef_df.fillna(0,inplace=True)    \n",
    "coef_df['avg'] = (coef_df['LR'] + coef_df['Lasso'] + coef_df['RF'] + coef_df['GB']) / 4\n",
    "coef_df['abs_avg'] = abs(coef_df['avg'])"
   ]
  },
  {
   "cell_type": "markdown",
   "metadata": {},
   "source": [
    "## Top ten features"
   ]
  },
  {
   "cell_type": "code",
   "execution_count": 18,
   "metadata": {},
   "outputs": [
    {
     "data": {
      "text/html": [
       "<div>\n",
       "<style scoped>\n",
       "    .dataframe tbody tr th:only-of-type {\n",
       "        vertical-align: middle;\n",
       "    }\n",
       "\n",
       "    .dataframe tbody tr th {\n",
       "        vertical-align: top;\n",
       "    }\n",
       "\n",
       "    .dataframe thead th {\n",
       "        text-align: right;\n",
       "    }\n",
       "</style>\n",
       "<table border=\"1\" class=\"dataframe\">\n",
       "  <thead>\n",
       "    <tr style=\"text-align: right;\">\n",
       "      <th></th>\n",
       "      <th>feature</th>\n",
       "      <th>avg</th>\n",
       "    </tr>\n",
       "  </thead>\n",
       "  <tbody>\n",
       "    <tr>\n",
       "      <th>15</th>\n",
       "      <td>age</td>\n",
       "      <td>0.090897</td>\n",
       "    </tr>\n",
       "    <tr>\n",
       "      <th>101</th>\n",
       "      <td>race_ethnicity_black</td>\n",
       "      <td>0.056491</td>\n",
       "    </tr>\n",
       "    <tr>\n",
       "      <th>17</th>\n",
       "      <td>household_income</td>\n",
       "      <td>0.034895</td>\n",
       "    </tr>\n",
       "    <tr>\n",
       "      <th>104</th>\n",
       "      <td>race_ethnicity_white</td>\n",
       "      <td>0.029954</td>\n",
       "    </tr>\n",
       "    <tr>\n",
       "      <th>79</th>\n",
       "      <td>religion_atheist</td>\n",
       "      <td>0.027967</td>\n",
       "    </tr>\n",
       "    <tr>\n",
       "      <th>14</th>\n",
       "      <td>fc_smallgov</td>\n",
       "      <td>0.025900</td>\n",
       "    </tr>\n",
       "    <tr>\n",
       "      <th>1</th>\n",
       "      <td>news_sources_cnn</td>\n",
       "      <td>0.023466</td>\n",
       "    </tr>\n",
       "    <tr>\n",
       "      <th>2</th>\n",
       "      <td>news_sources_msnbc</td>\n",
       "      <td>0.022839</td>\n",
       "    </tr>\n",
       "    <tr>\n",
       "      <th>105</th>\n",
       "      <td>household_gun_owner_no</td>\n",
       "      <td>0.022770</td>\n",
       "    </tr>\n",
       "    <tr>\n",
       "      <th>7</th>\n",
       "      <td>news_sources_npr</td>\n",
       "      <td>0.021789</td>\n",
       "    </tr>\n",
       "    <tr>\n",
       "      <th>18</th>\n",
       "      <td>education</td>\n",
       "      <td>0.021170</td>\n",
       "    </tr>\n",
       "    <tr>\n",
       "      <th>78</th>\n",
       "      <td>religion_agnostic</td>\n",
       "      <td>0.013001</td>\n",
       "    </tr>\n",
       "    <tr>\n",
       "      <th>69</th>\n",
       "      <td>employment_employed</td>\n",
       "      <td>-0.012437</td>\n",
       "    </tr>\n",
       "    <tr>\n",
       "      <th>87</th>\n",
       "      <td>religion_none</td>\n",
       "      <td>0.011252</td>\n",
       "    </tr>\n",
       "  </tbody>\n",
       "</table>\n",
       "</div>"
      ],
      "text/plain": [
       "                    feature       avg\n",
       "15                      age  0.090897\n",
       "101    race_ethnicity_black  0.056491\n",
       "17         household_income  0.034895\n",
       "104    race_ethnicity_white  0.029954\n",
       "79         religion_atheist  0.027967\n",
       "14              fc_smallgov  0.025900\n",
       "1          news_sources_cnn  0.023466\n",
       "2        news_sources_msnbc  0.022839\n",
       "105  household_gun_owner_no  0.022770\n",
       "7          news_sources_npr  0.021789\n",
       "18                education  0.021170\n",
       "78        religion_agnostic  0.013001\n",
       "69      employment_employed -0.012437\n",
       "87            religion_none  0.011252"
      ]
     },
     "execution_count": 18,
     "metadata": {},
     "output_type": "execute_result"
    }
   ],
   "source": [
    "coef_df.loc[coef_df['abs_avg'] >= 0.01,:].sort_values('abs_avg',ascending=False)[['feature','avg']]\n"
   ]
  }
 ],
 "metadata": {
  "kernelspec": {
   "display_name": "Python 3",
   "language": "python",
   "name": "python3"
  },
  "language_info": {
   "codemirror_mode": {
    "name": "ipython",
    "version": 3
   },
   "file_extension": ".py",
   "mimetype": "text/x-python",
   "name": "python",
   "nbconvert_exporter": "python",
   "pygments_lexer": "ipython3",
   "version": "3.8.5"
  }
 },
 "nbformat": 4,
 "nbformat_minor": 4
}
